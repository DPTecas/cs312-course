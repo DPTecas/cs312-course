{
 "cells": [
  {
   "cell_type": "markdown",
   "metadata": {},
   "source": [
    "![](../../images/cs312.png)\n",
    "***\n",
    "\n",
    "# 02 Prove - Assignment\n",
    "\n",
    "## 1 - Objectives\n",
    "\n",
    "- Introduction to images and how to manipulate them.\n"
   ]
  },
  {
   "cell_type": "markdown",
   "metadata": {},
   "source": [
    "***\n",
    "## 2 - Introduction\n",
    "\n",
    "- This week's assignment consists of writing stand alone functions that work with images.  \n",
    "- It is very important that you understand the format of images and how to modify them."
   ]
  },
  {
   "cell_type": "markdown",
   "metadata": {},
   "source": [
    "***\n",
    "## 3 - Assignment\n",
    "\n",
    "1. Below are code sections where you will impliment the function described.\n",
    "1. **Note** you must **not** use any opencv or numpy functions in implimenting the function below other than the function provided.\n",
    "1. DO NOT import any other libraries aside from those that we provide. You should be able to complete the assignment with the given libraries (and in many cases without them)."
   ]
  },
  {
   "cell_type": "markdown",
   "metadata": {},
   "source": [
    "### 3.0 - The Setup\n",
    "\n",
    "The following code is required for this assignment.  Make sure that it is run before running your functions."
   ]
  },
  {
   "cell_type": "code",
   "execution_count": null,
   "metadata": {},
   "outputs": [],
   "source": [
    "# These are the libraries used in this notebook - you must run this cell\n",
    "%matplotlib inline\n",
    "import numpy as np\n",
    "import matplotlib.pyplot as plt\n",
    "import cv2\n",
    "\n",
    "# Load test images, 0 option is for grayscale\n",
    "tricycle1 = cv2.imread('tricycle1.jpg', 0)\n",
    "tricycle2 = cv2.imread('tricycle2.jpg', 0)\n",
    "\n",
    "# In order to display a color image using MatPlotLib, RGB channels need to be swapped\n",
    "# img = cv2.cvtColor(tricycleGray,cv2.COLOR_BGR2RGB)\n",
    "\n",
    "plt.imshow(tricycle1, cmap = 'gray')\n",
    "plt.title('Sample GrayScale Image'), plt.xticks([]), plt.yticks([])\n",
    "plt.show()"
   ]
  },
  {
   "cell_type": "markdown",
   "metadata": {},
   "source": [
    "---\n",
    "### 3.1 - numberOfPixels()\n",
    "\n",
    "This function takes in a grayscale image, and you must return an integer which represents the number of pixels in this grayscale image."
   ]
  },
  {
   "cell_type": "code",
   "execution_count": null,
   "metadata": {},
   "outputs": [],
   "source": [
    "def numberOfPixels(image):\n",
    "    # Write your code here\n",
    "    pass\n",
    "\n",
    "print (numberOfPixels(tricycle1))"
   ]
  },
  {
   "cell_type": "markdown",
   "metadata": {},
   "source": [
    "---\n",
    "### 3.2 - averagePixel()\n",
    "\n",
    "This function takes in a grayscale image and outputs the average pixel value of that image as an integer."
   ]
  },
  {
   "cell_type": "code",
   "execution_count": null,
   "metadata": {},
   "outputs": [],
   "source": [
    "def averagePixel(image):\n",
    "    # Write your code here\n",
    "    pass\n",
    "\n",
    "print (averagePixel(tricycle1))"
   ]
  },
  {
   "cell_type": "markdown",
   "metadata": {},
   "source": [
    "---\n",
    "### 3.3 - convertToBlackAndWhite()\n",
    "\n",
    "- This function converts a grayscale image to a new black and white image.  \n",
    "- Pixels values <=128 will be 0 and values >128 will be 255.\n",
    "- The new image will have the same dtype as the original image."
   ]
  },
  {
   "cell_type": "code",
   "execution_count": null,
   "metadata": {},
   "outputs": [],
   "source": [
    "def convertToBlackAndWhite(image):\n",
    "    # Write your code here\n",
    "    pass\n",
    "\n",
    "# Display converted image\n",
    "newImg = convertToBlackAndWhite(tricycle1)\n",
    "plt.imshow(newImg, cmap = 'gray')\n",
    "plt.title('Converted Image to BW'), plt.xticks([]), plt.yticks([])\n",
    "plt.show()\n",
    "\n",
    "# Display original image\n",
    "plt.imshow(tricycle1, cmap = 'gray')\n",
    "plt.title('Original Grayscale Image'), plt.xticks([]), plt.yticks([])\n",
    "plt.show()"
   ]
  },
  {
   "cell_type": "markdown",
   "metadata": {},
   "source": [
    "---\n",
    "### 3.4 - averageTwoImages()\n",
    "\n",
    "- This function requires you to average (at the pixel level) two input images into a new image.\n",
    "- The new image will have the same dtype as the original image.\n",
    "- You are not able to use any OpenCV or numpy functions."
   ]
  },
  {
   "cell_type": "code",
   "execution_count": null,
   "metadata": {},
   "outputs": [],
   "source": [
    "def averageTwoImages(image1, image2):\n",
    "    # Write your code here\n",
    "    pass\n",
    "\n",
    "# Display new conbined image\n",
    "newImg = averageTwoImages(tricycle1, tricycle2)\n",
    "plt.imshow(newImg, cmap = 'gray')\n",
    "plt.title('Combined Image'), plt.xticks([]), plt.yticks([])\n",
    "plt.show()"
   ]
  },
  {
   "cell_type": "markdown",
   "metadata": {},
   "source": [
    "---\n",
    "### 3.5 - flipHorizontal()\n",
    "\n",
    "This function flips an image along the horizontal axis.  A new image is returned."
   ]
  },
  {
   "cell_type": "code",
   "execution_count": null,
   "metadata": {},
   "outputs": [],
   "source": [
    "def flipHorizontal(image):\n",
    "    # Write your code here\n",
    "    pass\n",
    "\n",
    "# Display new flipped image\n",
    "newImg = flipHorizontal(tricycle1)\n",
    "plt.imshow(newImg, cmap = 'gray')\n",
    "plt.title('Flipped Horizontal Image'), plt.xticks([]), plt.yticks([])\n",
    "plt.show()"
   ]
  },
  {
   "cell_type": "markdown",
   "metadata": {},
   "source": [
    "---\n",
    "### 3.6 - flipVertical()\n",
    "\n",
    "This function flips an image along the vertical axis.  A new image is returned."
   ]
  },
  {
   "cell_type": "code",
   "execution_count": null,
   "metadata": {},
   "outputs": [],
   "source": [
    "def flipVertical(image):\n",
    "    # Write your code here\n",
    "    pass\n",
    "\n",
    "# Display new flipped image\n",
    "newImg = flipVertical(tricycle1)\n",
    "plt.imshow(newImg, cmap = 'gray')\n",
    "plt.title('Flipped Vertical Image'), plt.xticks([]), plt.yticks([])\n",
    "plt.show()"
   ]
  },
  {
   "cell_type": "markdown",
   "metadata": {},
   "source": [
    "### 3.7 - Histographs\n",
    "\n",
    "This is section of the assignment I want you to:\n",
    "\n",
    "1. Use any image that you have taken with a camera.  Reduce your image the range of 100 to 200 pixels in width/height. [irfanView](http://www.irfanview.com/) is a good image viewer for Windows and there are a number of free viewers for the Mac.\n",
    "1. Load it as a color image and seperate the color channels.\n",
    "1. Write a dictionary of the pixels values for each channel.\n",
    "1. Using MatPlotLib, graph each color channel and then graph all three together. \n",
    "1. Next, convert the color image to grayscale and graph it's values.\n",
    "1. **You will end up with 5 graphs.**\n",
    "1. Here is some information about [OpenCV Histogram](https://docs.opencv.org/3.3.1/d1/db7/tutorial_py_histogram_begins.html).  **Note that you are not allowed to used OpenCV functions for this section of the assignment**"
   ]
  },
  {
   "cell_type": "markdown",
   "metadata": {},
   "source": [
    "#### 3.7.1 - Chart each channel"
   ]
  },
  {
   "cell_type": "code",
   "execution_count": null,
   "metadata": {},
   "outputs": [],
   "source": [
    "# Add you code here to create three histograms of tricycle1.  \n",
    "# There images can be displayed one after another.  \n",
    "# Please label your images.\n",
    "\n",
    "\n"
   ]
  },
  {
   "cell_type": "markdown",
   "metadata": {},
   "source": [
    "#### 3.7.2 - Create one chart of all three channels"
   ]
  },
  {
   "cell_type": "code",
   "execution_count": null,
   "metadata": {},
   "outputs": [],
   "source": [
    "# Add you code here to create one histogram of the three color channels of tricycle1\n",
    "# You can assume that the code above this cell is working (ie., reuse any variables you want)\n"
   ]
  },
  {
   "cell_type": "markdown",
   "metadata": {},
   "source": [
    "#### 3.7.3 - Chart grayscale colors"
   ]
  },
  {
   "cell_type": "code",
   "execution_count": null,
   "metadata": {},
   "outputs": [],
   "source": [
    "# Convert tricycle1 to BW\n",
    "\n",
    "# graph its' histogram\n"
   ]
  },
  {
   "cell_type": "markdown",
   "metadata": {},
   "source": [
    "***\n",
    "## 4 - Rubric\n",
    "\n",
    "It is your responsibility to show that your assignment clearly satisfies the rubric.  Use as many tests to show that your assignment deserves the grade it should get.\n",
    "\n",
    "| Task | Points |\n",
    "|------|-----|\n",
    "| numberOfPixels() | 5 |\n",
    "| averagePixel() | 10 |\n",
    "| convertToBlackAndWhite() | 10 |\n",
    "| averageTwoImages() | 20 |\n",
    "| flipHorizontal() | 10 |\n",
    "| flipVertical() | 10 |\n",
    "| Histographs | 25 |\n",
    "| Coding style and Presentation | 10 |\n",
    "|------|-----|\n",
    "| Total | 100  |\n",
    "\n"
   ]
  },
  {
   "cell_type": "markdown",
   "metadata": {},
   "source": [
    "***\n",
    "## 5 - Submission\n",
    "\n",
    "Do all of you coding in this Jupyter Notebook:\n",
    "1. Download this notebook to your computer.\n",
    "1. Run Jupyter Notebook to allow you edit this notebook.  Use the \"run all cells\" command.\n",
    "1. Write and compile your code in the notebook.\n",
    "1. When finished, run all cells, export to HTML and upload it to I-Learn.\n"
   ]
  }
 ],
 "metadata": {
  "kernelspec": {
   "display_name": "Python 3",
   "language": "python",
   "name": "python3"
  },
  "language_info": {
   "codemirror_mode": {
    "name": "ipython",
    "version": 3
   },
   "file_extension": ".py",
   "mimetype": "text/x-python",
   "name": "python",
   "nbconvert_exporter": "python",
   "pygments_lexer": "ipython3",
   "version": "3.6.3"
  }
 },
 "nbformat": 4,
 "nbformat_minor": 2
}
