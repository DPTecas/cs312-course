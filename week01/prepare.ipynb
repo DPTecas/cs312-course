{
 "cells": [
  {
   "cell_type": "markdown",
   "metadata": {},
   "source": [
    "![](../images/cs312.png)\n",
    "***\n",
    "\n",
    "# 01 Prepare : Reading \n",
    "\n",
    "## 1 - Objectives\n",
    "\n",
    "- Install all of the software required for this course\n",
    "- Python 3 and numpy introduction\n",
    "\n",
    "## 2 - Topic\n",
    "\n",
    "Welcome to the first week of CS312.  This week is used to get you \"up to speed\" in the software and tools that we will be using this semester.  It is very important that you install all the software as soon as possible on your computer.\n",
    "\n",
    "### 2.1 - Install software\n",
    "\n",
    "This course requires software to be installed on your computer. Link on [Installing Software](../resources/Software.ipynb) for details on what and how to install the required software.\n",
    "\n",
    "## 3 - Reading\n",
    "\n",
    "**Python 3**\n",
    "- There are two main versions of Python - version 2 and 3.  We will be using version 3 in this course.\n",
    "- Go to this [site](https://developers.google.com/edu/python/) and read through the sections.  \n",
    "- Here is another [site](https://www.tutorialspoint.com/python3/) for learning Python 3.\n",
    "\n",
    "\n",
    "**numpy** \n",
    "- numpy is a library is very important and is used by many programming problems.  We are using it to handle images.  \n",
    "- Main website [www.numpy.org](http://www.numpy.org).\n",
    "- Here is a [quick start link](https://docs.scipy.org/doc/numpy-dev/user/quickstart.html).\n",
    "- Scipy is a sciencify python library that uses numpy.  Here are some good references [Main Index](http://www.scipy-lectures.org/intro/numpy/index.html), [Basic Data Type](http://www.scipy-lectures.org/intro/numpy/array_object.html#basic-data-types), [Basic Operations](http://www.scipy-lectures.org/intro/numpy/operations.html#basic-operations), [Shape Manipulations](http://www.scipy-lectures.org/intro/numpy/operations.html#array-shape-manipulation)\n",
    "\n",
    "\n",
    "**jupyter notebook**\n",
    "- The content and assignments will be presented using Jupyter Notebooks.\n",
    "- Here is a [video](https://www.youtube.com/watch?v=HW29067qVWk) on how to use Jupyter.  You can skip the installation part of the video.  Also, the video goes over installing version 2.7 of Python.  We are only using version 3.\n",
    "\n",
    "\n",
    "**Markdown Language**\n",
    "- When using Jupyter Notebooks, you will need to use MarkDown text.  This is a very simple language to use.  Here is a [video](https://www.youtube.com/watch?v=0_tO8HgJiLQ) and [documentation](https://github.com/adam-p/markdown-here/wiki/Markdown-Cheatsheet) on MarkDown.\n",
    "- There is a great extension to Visual Studio Code that allows you to preview MarkDown text in real time.\n",
    "\n",
    "**MatPlotLib**\n",
    "- Matplotlib is a plotting library for Python.  It is used by many other python libraries.  [Introduction](http://www.scipy-lectures.org/intro/matplotlib/index.html#introduction)"
   ]
  },
  {
   "cell_type": "markdown",
   "metadata": {},
   "source": [
    "## 4 - Computer Vision\n",
    "\n",
    "> Computer vision is an interdisciplinary field that deals with how computers can be made for gaining high-level understanding from digital images or videos. From the perspective of engineering, it seeks to automate tasks that the human visual system can do.\n",
    "\n",
    "- [Seam Carving](https://www.youtube.com/watch?v=6NcIJXTlugc)\n",
    "- [Photo Synth](https://www.youtube.com/watch?v=p16frKJLVi0)\n",
    "- [Video Textures](https://www.youtube.com/watch?v=TolE2zhWd7U&list=PLBF6308A3DA8A9656)\n",
    "- [GraphCut Textures](https://www.youtube.com/watch?v=Ya6BshBH6G4&index=9&list=PLBF6308A3DA8A9656)\n",
    "- [Video Stabilization](https://www.youtube.com/watch?v=0MiY-PNy-GU&index=36&list=PLBF6308A3DA8A9656)\n",
    "- [Feature Detection](https://www.youtube.com/watch?v=sz04loE2gxo)\n",
    "- [360 Degree panoramas](https://www.youtube.com/watch?v=yergXKYPy-E)\n"
   ]
  },
  {
   "cell_type": "markdown",
   "metadata": {},
   "source": [
    "## 5 - Computer Graphics\n",
    "\n",
    "> Computer Graphics is the process of creation, storage and manipulation of images and models using database structures and algorithms.\n",
    "\n",
    "- https://en.wikipedia.org/wiki/Computer_graphics_(computer_science)\n",
    "- [What is Computer Graphics](https://www.youtube.com/watch?v=5kuoRjgfCls)\n",
    "\n"
   ]
  }
 ],
 "metadata": {
  "kernelspec": {
   "display_name": "Python 3",
   "language": "python",
   "name": "python3"
  },
  "language_info": {
   "codemirror_mode": {
    "name": "ipython",
    "version": 3
   },
   "file_extension": ".py",
   "mimetype": "text/x-python",
   "name": "python",
   "nbconvert_exporter": "python",
   "pygments_lexer": "ipython3",
   "version": "3.6.3"
  }
 },
 "nbformat": 4,
 "nbformat_minor": 2
}
